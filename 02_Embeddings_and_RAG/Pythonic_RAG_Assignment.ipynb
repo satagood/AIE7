{
 "cells": [
  {
   "cell_type": "markdown",
   "metadata": {
    "id": "lElF3o5PR6ys"
   },
   "source": [
    "# Your First RAG Application\n",
    "\n",
    "In this notebook, we'll walk you through each of the components that are involved in a simple RAG application.\n",
    "\n",
    "We won't be leveraging any fancy tools, just the OpenAI Python SDK, Numpy, and some classic Python.\n",
    "\n",
    "> NOTE: This was done with Python 3.11.4.\n",
    "\n",
    "> NOTE: There might be [compatibility issues](https://github.com/wandb/wandb/issues/7683) if you're on NVIDIA driver >552.44 As an interim solution - you can rollback your drivers to the 552.44."
   ]
  },
  {
   "cell_type": "markdown",
   "metadata": {
    "id": "5CtcL8P8R6yt"
   },
   "source": [
    "## Table of Contents:\n",
    "\n",
    "- Task 1: Imports and Utilities\n",
    "- Task 2: Documents\n",
    "- Task 3: Embeddings and Vectors\n",
    "- Task 4: Prompts\n",
    "- Task 5: Retrieval Augmented Generation\n",
    "  - \ud83d\udea7 Activity #1: Augment RAG"
   ]
  },
  {
   "cell_type": "markdown",
   "metadata": {
    "id": "1Dz6GYilR6yt"
   },
   "source": [
    "Let's look at a rather complicated looking visual representation of a basic RAG application.\n",
    "\n",
    "<img src=\"https://i.imgur.com/vD8b016.png\" />"
   ]
  },
  {
   "cell_type": "markdown",
   "metadata": {
    "id": "PjmC0KFtR6yt"
   },
   "source": [
    "## Task 1: Imports and Utility\n",
    "\n",
    "We're just doing some imports and enabling `async` to work within the Jupyter environment here, nothing too crazy!"
   ]
  },
  {
   "cell_type": "code",
   "execution_count": 46,
   "metadata": {
    "id": "Z1dyrG4hR6yt"
   },
   "outputs": [],
   "source": [
    "from aimakerspace.text_utils import TextFileLoader, CharacterTextSplitter\n",
    "from aimakerspace.vectordatabase import VectorDatabase\n",
    "import asyncio"
   ]
  },
  {
   "cell_type": "code",
   "execution_count": 47,
   "metadata": {
    "id": "9OrFZRnER6yt"
   },
   "outputs": [],
   "source": [
    "import nest_asyncio\n",
    "nest_asyncio.apply()"
   ]
  },
  {
   "cell_type": "markdown",
   "metadata": {
    "id": "M0jGnpQsR6yu"
   },
   "source": [
    "## Task 2: Documents\n",
    "\n",
    "We'll be concerning ourselves with this part of the flow in the following section:\n",
    "\n",
    "<img src=\"https://i.imgur.com/jTm9gjk.png\" />"
   ]
  },
  {
   "cell_type": "markdown",
   "metadata": {
    "id": "-SFPWvRUR6yu"
   },
   "source": [
    "### Loading Source Documents\n",
    "\n",
    "So, first things first, we need some documents to work with.\n",
    "\n",
    "While we could work directly with the `.txt` files (or whatever file-types you wanted to extend this to) we can instead do some batch processing of those documents at the beginning in order to store them in a more machine compatible format.\n",
    "\n",
    "In this case, we're going to parse our text file into a single document in memory.\n",
    "\n",
    "Let's look at the relevant bits of the `TextFileLoader` class:\n",
    "\n",
    "```python\n",
    "def load_file(self):\n",
    "        with open(self.path, \"r\", encoding=self.encoding) as f:\n",
    "            self.documents.append(f.read())\n",
    "```\n",
    "\n",
    "We're simply loading the document using the built in `open` method, and storing that output in our `self.documents` list.\n",
    "\n",
    "> NOTE: We're using blogs from PMarca (Marc Andreessen) as our sample data. This data is largely irrelevant as we want to focus on the mechanisms of RAG, which includes out data's shape and quality - but not specifically what the contents of the data are. \n"
   ]
  },
  {
   "cell_type": "code",
   "execution_count": 48,
   "metadata": {
    "colab": {
     "base_uri": "https://localhost:8080/"
    },
    "id": "Ia2sUEuGR6yu",
    "outputId": "84937ecc-c35f-4c4a-a4ab-9da72625954c"
   },
   "outputs": [
    {
     "data": {
      "text/plain": [
       "1"
      ]
     },
     "execution_count": 48,
     "metadata": {},
     "output_type": "execute_result"
    }
   ],
   "source": [
    "text_loader = TextFileLoader(\"data/PMarcaBlogs.txt\")\n",
    "documents = text_loader.load_documents()\n",
    "len(documents)"
   ]
  },
  {
   "cell_type": "code",
   "execution_count": 49,
   "metadata": {
    "colab": {
     "base_uri": "https://localhost:8080/"
    },
    "id": "bV-tj5WFR6yu",
    "outputId": "674eb315-1ff3-4597-bcf5-38ece0a812ac"
   },
   "outputs": [
    {
     "name": "stdout",
     "output_type": "stream",
     "text": [
      "\n",
      "The Pmarca Blog Archives\n",
      "(select posts from 2007-2009)\n",
      "Marc Andreessen\n",
      "copyright: Andreessen Horow\n"
     ]
    }
   ],
   "source": [
    "print(documents[0][:100])"
   ]
  },
  {
   "cell_type": "markdown",
   "metadata": {
    "id": "nHlTvCzYR6yu"
   },
   "source": [
    "### Splitting Text Into Chunks\n",
    "\n",
    "As we can see, there is one massive document.\n",
    "\n",
    "We'll want to chunk the document into smaller parts so it's easier to pass the most relevant snippets to the LLM.\n",
    "\n",
    "There is no fixed way to split/chunk documents - and you'll need to rely on some intuition as well as knowing your data *very* well in order to build the most robust system.\n",
    "\n",
    "For this toy example, we'll just split blindly on length.\n",
    "\n",
    ">There's an opportunity to clear up some terminology here, for this course we will be stick to the following:\n",
    ">\n",
    ">- \"source documents\" : The `.txt`, `.pdf`, `.html`, ..., files that make up the files and information we start with in its raw format\n",
    ">- \"document(s)\" : single (or more) text object(s)\n",
    ">- \"corpus\" : the combination of all of our documents"
   ]
  },
  {
   "cell_type": "markdown",
   "metadata": {
    "id": "2G6Voc0jR6yv"
   },
   "source": [
    "As you can imagine (though it's not specifically true in this toy example) the idea of splitting documents is to break them into managable sized chunks that retain the most relevant local context."
   ]
  },
  {
   "cell_type": "code",
   "execution_count": 50,
   "metadata": {
    "colab": {
     "base_uri": "https://localhost:8080/"
    },
    "id": "UMC4tsEmR6yv",
    "outputId": "08689c0b-57cd-4040-942a-8193e997f5cb"
   },
   "outputs": [
    {
     "data": {
      "text/plain": [
       "373"
      ]
     },
     "execution_count": 50,
     "metadata": {},
     "output_type": "execute_result"
    }
   ],
   "source": [
    "text_splitter = CharacterTextSplitter()\n",
    "split_documents = text_splitter.split_texts(documents)\n",
    "len(split_documents)"
   ]
  },
  {
   "cell_type": "markdown",
   "metadata": {
    "id": "W2wKT0WLR6yv"
   },
   "source": [
    "Let's take a look at some of the documents we've managed to split."
   ]
  },
  {
   "cell_type": "code",
   "execution_count": 51,
   "metadata": {
    "colab": {
     "base_uri": "https://localhost:8080/"
    },
    "id": "vcYMwWJoR6yv",
    "outputId": "20d69876-feca-4826-b4be-32915276987a"
   },
   "outputs": [
    {
     "data": {
      "text/plain": [
       "['ything else you can think of that\\nwould make the world a better place. Think it should be easier\\nfor low-income people to borrow money? Start Prosper. Think\\ntelevision should be opened up to an inXnite number of channels? Start Joost. Think that computers should be based on Unix\\nand open standards and not proprietary technology? Start Sun.\\nThe ability to create your ideal culture and work with a dream team\\nof people you get to assemble yourself. Want your culture to be\\nbased on people who have fun every day and enjoy working\\ntogether? Or, are hyper-competitive both in work and play? Or,\\nare super-focused on creating innovative new rocket science\\nPart 1: Why not to do a startup 3\\ntechnologies? Or, are global in perspective from day one? You\\nget to choose, and to build your culture and team to suit.\\nAnd Xnally, money \u2014 startups done right can of course be highly\\nlucrative. This is not just an issue of personal greed \u2014 when\\nthings go right, your team and employees will themselves do\\nvery ',\n",
       " 'to suit.\\nAnd Xnally, money \u2014 startups done right can of course be highly\\nlucrative. This is not just an issue of personal greed \u2014 when\\nthings go right, your team and employees will themselves do\\nvery well and will be able to support their families, send their\\nkids to college, and realize their dreams, and that\u2019s really cool.\\nAnd if you\u2019re really lucky, you as the entrepreneur can ultimately make profound philanthropic gias that change society\\nfor the better.\\nHowever, there are many more reasons to not do a startup.\\nFirst, and most importantly, realize that a startup puts you on\\nan emotional rollercoaster unlike anything you have ever experienced.\\nYou will Yip rapidly from a day in which you are euphorically\\nconvinced you are going to own the world, to a day in which\\ndoom seems only weeks away and you feel completely ruined,\\nand back again.\\nOver and over and over.\\nAnd I\u2019m talking about what happens to stable entrepreneurs.\\nThere is so much uncertainty and so much risk around practically',\n",
       " 'way and you feel completely ruined,\\nand back again.\\nOver and over and over.\\nAnd I\u2019m talking about what happens to stable entrepreneurs.\\nThere is so much uncertainty and so much risk around practically everything you are doing. Will the product ship on time?\\nWill it be fast enough? Will it have too many bugs? Will it be\\neasy to use? Will anyone use it? Will your competitor beat you\\nto market? Will you get any press coverage? Will anyone invest\\nin the company? Will that key new engineer join? Will your key\\nuser interface designer quit and go to Google? And on and on\\nand on\u2026\\nSome days things will go really well and some things will go\\nreally poorly. And the level of stress that you\u2019re under generally\\nwill magnify those transient data points into incredible highs\\nand unbelievable lows at whiplash speed and huge magnitude.\\nSound like fun?\\n4 The Pmarca Blog Archives\\nSecond, in a startup, absolutely nothing happens unless you make it\\nhappen.\\nThis one throws both founders and employees new to ',\n",
       " 'ash speed and huge magnitude.\\nSound like fun?\\n4 The Pmarca Blog Archives\\nSecond, in a startup, absolutely nothing happens unless you make it\\nhappen.\\nThis one throws both founders and employees new to startups.\\nIn an established company \u2014 no matter how poorly run or\\ndemoralized \u2014 things happen. They just happen. People come\\nin to work. Code gets written. User interfaces get designed.\\nServers get provisioned. Markets get analyzed. Pricing gets studied and determined. Sales calls get made. The wastebaskets get\\nemptied. And so on.\\nA startup has none of the established systems, rhythms, infrastructure that any established company has.\\nIn a startup it is very easy for the code to not get written, for the\\nuser interfaces to not get designed\u2026 for people to not come into\\nwork\u2026 and for the wastebaskets to not get emptied.\\nYou as the founder have to put all of these systems and routines\\nand habits in place and get everyone actually rowing \u2014 forget\\neven about rowing in the right direction: just ro',\n",
       " 'ets to not get emptied.\\nYou as the founder have to put all of these systems and routines\\nand habits in place and get everyone actually rowing \u2014 forget\\neven about rowing in the right direction: just rowing at all is\\nhard enough at the start.\\nAnd until you do, absolutely nothing happens.\\nUnless, of course, you do it yourself.\\nHave fun emptying those wastebaskets.\\nThird, you get told no \u2014 a lot.\\nUnless you\u2019ve spent time in sales, you are probably not familiar\\nwith being told no a lot.\\nIt\u2019s not so much fun.\\nGo watch Death of a Salesman and then Glengarry Glen Ross.\\nThat\u2019s roughly what it\u2019s like.\\nYou\u2019re going to get told no by potential employees, potential\\ninvestors, potential customers, potential partners, reporters,\\nanalysts\u2026\\nPart 1: Why not to do a startup 5\\nOver and over and over.\\nAnd when you do get a \u201cyes\u201d, half the time you\u2019ll get a call two\\ndays later and it\u2019ll turn out the answer has morphed into \u201cno\u201d.\\nBetter start working on your fake smile.\\nFourth, hiring is a huge pain in the a']"
      ]
     },
     "execution_count": 51,
     "metadata": {},
     "output_type": "execute_result"
    }
   ],
   "source": [
    "split_documents[5:10]"
   ]
  },
  {
   "cell_type": "markdown",
   "metadata": {
    "id": "HOU-RFP_R6yv"
   },
   "source": [
    "## Task 3: Embeddings and Vectors\n",
    "\n",
    "Next, we have to convert our corpus into a \"machine readable\" format as we explored in the Embedding Primer notebook.\n",
    "\n",
    "Today, we're going to talk about the actual process of creating, and then storing, these embeddings, and how we can leverage that to intelligently add context to our queries."
   ]
  },
  {
   "cell_type": "markdown",
   "metadata": {},
   "source": [
    "### OpenAI API Key\n",
    "\n",
    "In order to access OpenAI's APIs, we'll need to provide our OpenAI API Key!\n",
    "\n",
    "You can work through the folder \"OpenAI API Key Setup\" for more information on this process if you don't already have an API Key!"
   ]
  },
  {
   "cell_type": "code",
   "execution_count": 52,
   "metadata": {},
   "outputs": [],
   "source": [
    "import os\n",
    "import openai\n",
    "from getpass import getpass\n",
    "\n",
    "openai.api_key = getpass(\"OpenAI API Key: \")\n",
    "os.environ[\"OPENAI_API_KEY\"] = openai.api_key"
   ]
  },
  {
   "cell_type": "markdown",
   "metadata": {},
   "source": [
    "### Vector Database\n",
    "\n",
    "Let's set up our vector database to hold all our documents and their embeddings!"
   ]
  },
  {
   "cell_type": "markdown",
   "metadata": {
    "id": "kDQrfAR1R6yv"
   },
   "source": [
    "While this is all baked into 1 call - we can look at some of the code that powers this process to get a better understanding:\n",
    "\n",
    "Let's look at our `VectorDatabase().__init__()`:\n",
    "\n",
    "```python\n",
    "def __init__(self, embedding_model: EmbeddingModel = None):\n",
    "        self.vectors = defaultdict(np.array)\n",
    "        self.embedding_model = embedding_model or EmbeddingModel()\n",
    "```\n",
    "\n",
    "As you can see - our vectors are merely stored as a dictionary of `np.array` objects.\n",
    "\n",
    "Secondly, our `VectorDatabase()` has a default `EmbeddingModel()` which is a wrapper for OpenAI's `text-embedding-3-small` model.\n",
    "\n",
    "> **Quick Info About `text-embedding-3-small`**:\n",
    "> - It has a context window of **8191** tokens\n",
    "> - It returns vectors with dimension **1536**"
   ]
  },
  {
   "cell_type": "markdown",
   "metadata": {
    "id": "L273pRdeR6yv"
   },
   "source": [
    "#### \u2753Question #1:\n",
    "\n",
    "The default embedding dimension of `text-embedding-3-small` is 1536, as noted above. \n",
    "\n",
    "1. Is there any way to modify this dimension?\n",
    "2. What technique does OpenAI use to achieve this?\n",
    "\n",
    "> NOTE: Check out this [API documentation](https://platform.openai.com/docs/api-reference/embeddings/create) for the answer to question #1, and [this documentation](https://platform.openai.com/docs/guides/embeddings/use-cases) for an answer to question #2!"
   ]
  },
  {
   "cell_type": "markdown",
   "metadata": {},
   "source": [
    "### Answers\n",
    "\n",
    "1. As it's stated in the documentation -> yes, we can modify the number of dimension for the text-embedding-3 and later models\n",
    "\n",
    "2. As it's stated in the \"Reducing embedding\" dimensions block -> one of the tecniques is to remove some numbers from the end of the sequence. From what I understand it's possible because open ai made text-embedding-3 the way that the most valuable information is stored at the begining of the vector.\n",
    "\n",
    "\n",
    "### Notes for myself\n",
    "\n",
    "1. What's considered as most valuable information? This seems subjective. How can we control it?\n",
    "2. Lowering dimensions give us decrease of volume of the vector db -> faster retrieval -> less latency for rag applications / less $\n",
    "3. Usually people start to optimize the dimensions if the number of docs is at least >100K\n",
    "\n",
    "\n"
   ]
  },
  {
   "cell_type": "markdown",
   "metadata": {
    "id": "w5FZY7K3R6yv"
   },
   "source": [
    "We can call the `async_get_embeddings` method of our `EmbeddingModel()` on a list of `str` and receive a list of `float` back!\n",
    "\n",
    "```python\n",
    "async def async_get_embeddings(self, list_of_text: List[str]) -> List[List[float]]:\n",
    "        return await aget_embeddings(\n",
    "            list_of_text=list_of_text, engine=self.embeddings_model_name\n",
    "        )\n",
    "```"
   ]
  },
  {
   "cell_type": "markdown",
   "metadata": {
    "id": "cSct6X0aR6yv"
   },
   "source": [
    "We cast those to `np.array` when we build our `VectorDatabase()`:\n",
    "\n",
    "```python\n",
    "async def abuild_from_list(self, list_of_text: List[str]) -> \"VectorDatabase\":\n",
    "        embeddings = await self.embedding_model.async_get_embeddings(list_of_text)\n",
    "        for text, embedding in zip(list_of_text, embeddings):\n",
    "            self.insert(text, np.array(embedding))\n",
    "        return self\n",
    "```\n",
    "\n",
    "And that's all we need to do!"
   ]
  },
  {
   "cell_type": "code",
   "execution_count": 53,
   "metadata": {
    "id": "O4KoLbVDR6yv"
   },
   "outputs": [
    {
     "name": "stdout",
     "output_type": "stream",
     "text": [
      "Processed batch 1/1 (373 texts)\n"
     ]
    }
   ],
   "source": [
    "vector_db = VectorDatabase()\n",
    "vector_db = asyncio.run(vector_db.abuild_from_list(split_documents))"
   ]
  },
  {
   "cell_type": "markdown",
   "metadata": {
    "id": "SSZwaGvpR6yv"
   },
   "source": [
    "#### \u2753Question #2:\n",
    "\n",
    "What are the benefits of using an `async` approach to collecting our embeddings?\n",
    "\n",
    "> NOTE: Determining the core difference between `async` and `sync` will be useful! If you get stuck - ask ChatGPT!"
   ]
  },
  {
   "cell_type": "markdown",
   "metadata": {},
   "source": [
    "### Answer\n",
    "\n",
    "`async` approach means that we can run opertions in parallel. `sync` means that we run operations step by step. \n",
    "\n",
    "hence, the pros of the `async` are:\n",
    "\n",
    "1. speed -> it just works faster\n",
    "2. effective use of the I/O time -> when we call open ai api we spend quite a lot of time waiting for response rathen than calculations -> so instead of wating we work with other tasks instead of just waiting\n"
   ]
  },
  {
   "cell_type": "markdown",
   "metadata": {
    "id": "nRBdIt-xR6yw"
   },
   "source": [
    "So, to review what we've done so far in natural language:\n",
    "\n",
    "1. We load source documents\n",
    "2. We split those source documents into smaller chunks (documents)\n",
    "3. We send each of those documents to the `text-embedding-3-small` OpenAI API endpoint\n",
    "4. We store each of the text representations with the vector representations as keys/values in a dictionary"
   ]
  },
  {
   "cell_type": "markdown",
   "metadata": {
    "id": "4-vWANZyR6yw"
   },
   "source": [
    "### Semantic Similarity\n",
    "\n",
    "The next step is to be able to query our `VectorDatabase()` with a `str` and have it return to us vectors and text that is most relevant from our corpus.\n",
    "\n",
    "We're going to use the following process to achieve this in our toy example:\n",
    "\n",
    "1. We need to embed our query with the same `EmbeddingModel()` as we used to construct our `VectorDatabase()`\n",
    "2. We loop through every vector in our `VectorDatabase()` and use a distance measure to compare how related they are\n",
    "3. We return a list of the top `k` closest vectors, with their text representations\n",
    "\n",
    "There's some very heavy optimization that can be done at each of these steps - but let's just focus on the basic pattern in this notebook.\n",
    "\n",
    "> We are using [cosine similarity](https://www.engati.com/glossary/cosine-similarity) as a distance metric in this example - but there are many many distance metrics you could use - like [these](https://flavien-vidal.medium.com/similarity-distances-for-natural-language-processing-16f63cd5ba55)\n",
    "\n",
    "> We are using a rather inefficient way of calculating relative distance between the query vector and all other vectors - there are more advanced approaches that are much more efficient, like [ANN](https://towardsdatascience.com/comprehensive-guide-to-approximate-nearest-neighbors-algorithms-8b94f057d6b6)"
   ]
  },
  {
   "cell_type": "code",
   "execution_count": 54,
   "metadata": {
    "colab": {
     "base_uri": "https://localhost:8080/"
    },
    "id": "76d96uavR6yw",
    "outputId": "bbfccc31-20a2-41c7-c14d-46554a43ed2d"
   },
   "outputs": [
    {
     "data": {
      "text/plain": [
       "[('ordingly.\\nSeventh, when hiring the executive to run your former specialty, be\\ncareful you don\u2019t hire someone weak on purpose.\\nThis sounds silly, but you wouldn\u2019t believe how oaen it happens.\\nThe CEO who used to be a product manager who has a weak\\nproduct management executive. The CEO who used to be in\\nsales who has a weak sales executive. The CEO who used to be\\nin marketing who has a weak marketing executive.\\nI call this the \u201cMichael Eisner Memorial Weak Executive Problem\u201d \u2014 aaer the CEO of Disney who had previously been a brilliant TV network executive. When he bought ABC at Disney, it\\npromptly fell to fourth place. His response? \u201cIf I had an extra\\ntwo days a week, I could turn around ABC myself.\u201d Well, guess\\nwhat, he didn\u2019t have an extra two days a week.\\nA CEO \u2014 or a startup founder \u2014 oaen has a hard time letting\\ngo of the function that brought him to the party. The result: you\\nhire someone weak into the executive role for that function so\\nthat you can continue to be \u201cthe man\u201d \u2014 cons',\n",
       "  np.float64(0.6538310113737325)),\n",
       " ('m. They have areas where they are truly deXcient in judgment or skill set. That\u2019s just life. Almost nobody is brilliant\\nat everything. When hiring and when Hring executives, you\\nmust therefore focus on strength rather than lack of weakness. Everybody has severe weaknesses even if you can\u2019t see\\nthem yet. When managing, it\u2019s oaen useful to micromanage and\\nto provide remedial training around these weaknesses. Doing so\\nmay make the diWerence between an executive succeeding or\\nfailing.\\nFor example, you might have a brilliant engineering executive\\nwho generates excellent team loyalty, has terriXc product judgment and makes the trains run on time. This same executive\\nmay be very poor at relating to the other functions in the company. She may generate far more than her share of cross-functional conYicts, cut herself oW from critical information, and\\nsigniXcantly impede your ability to sell and market eWectively.\\nYour alternatives are:\\n(a) Macro-manage and give her an annual or quarterly object',\n",
       "  np.float64(0.5035343642073881)),\n",
       " ('ed?\\nIn reality \u2014 as opposed to Marc\u2019s warped view of reality \u2014 it will\\nbe extremely helpful for Marc [if he were actually the CEO,\\nwhich he is not] to meet with the new head of engineering daily\\nwhen she comes on board and review all of her thinking and\\ndecisions. This level of micromanagement will accelerate her\\ntraining and improve her long-term eWectiveness. It will make\\nher seem smarter to the rest of the organization which will build\\ncredibility and conXdence while she comes up to speed. Micromanaging new executives is generally a good idea for a limited\\nperiod of time.\\nHowever, that is not the only time that it makes sense to micro66 The Pmarca Blog Archives\\nmanage executives. It turns out that just about every executive\\nin the world has a few things that are seriously wrong with\\nthem. They have areas where they are truly deXcient in judgment or skill set. That\u2019s just life. Almost nobody is brilliant\\nat everything. When hiring and when Hring executives, you\\nmust therefore focus o',\n",
       "  np.float64(0.4813616958358619))]"
      ]
     },
     "execution_count": 54,
     "metadata": {},
     "output_type": "execute_result"
    }
   ],
   "source": [
    "vector_db.search_by_text(\"What is the Michael Eisner Memorial Weak Executive Problem?\", k=3)"
   ]
  },
  {
   "cell_type": "markdown",
   "metadata": {
    "id": "TehsfIiKR6yw"
   },
   "source": [
    "## Task 4: Prompts\n",
    "\n",
    "In the following section, we'll be looking at the role of prompts - and how they help us to guide our application in the right direction.\n",
    "\n",
    "In this notebook, we're going to rely on the idea of \"zero-shot in-context learning\".\n",
    "\n",
    "This is a lot of words to say: \"We will ask it to perform our desired task in the prompt, and provide no examples.\""
   ]
  },
  {
   "cell_type": "markdown",
   "metadata": {
    "id": "yXpA0UveR6yw"
   },
   "source": [
    "### XYZRolePrompt\n",
    "\n",
    "Before we do that, let's stop and think a bit about how OpenAI's chat models work.\n",
    "\n",
    "We know they have roles - as is indicated in the following API [documentation](https://platform.openai.com/docs/api-reference/chat/create#chat/create-messages)\n",
    "\n",
    "There are three roles, and they function as follows (taken directly from [OpenAI](https://platform.openai.com/docs/guides/gpt/chat-completions-api)):\n",
    "\n",
    "- `{\"role\" : \"system\"}` : The system message helps set the behavior of the assistant. For example, you can modify the personality of the assistant or provide specific instructions about how it should behave throughout the conversation. However note that the system message is optional and the model\u2019s behavior without a system message is likely to be similar to using a generic message such as \"You are a helpful assistant.\"\n",
    "- `{\"role\" : \"user\"}` : The user messages provide requests or comments for the assistant to respond to.\n",
    "- `{\"role\" : \"assistant\"}` : Assistant messages store previous assistant responses, but can also be written by you to give examples of desired behavior.\n",
    "\n",
    "The main idea is this:\n",
    "\n",
    "1. You start with a system message that outlines how the LLM should respond, what kind of behaviours you can expect from it, and more\n",
    "2. Then, you can provide a few examples in the form of \"assistant\"/\"user\" pairs\n",
    "3. Then, you prompt the model with the true \"user\" message.\n",
    "\n",
    "In this example, we'll be forgoing the 2nd step for simplicities sake."
   ]
  },
  {
   "cell_type": "markdown",
   "metadata": {
    "id": "gdZ2KWKSR6yw"
   },
   "source": [
    "#### Utility Functions\n",
    "\n",
    "You'll notice that we're using some utility functions from the `aimakerspace` module - let's take a peek at these and see what they're doing!"
   ]
  },
  {
   "cell_type": "markdown",
   "metadata": {
    "id": "GFbeJDDsR6yw"
   },
   "source": [
    "##### XYZRolePrompt"
   ]
  },
  {
   "cell_type": "markdown",
   "metadata": {
    "id": "5mojJSE3R6yw"
   },
   "source": [
    "Here we have our `system`, `user`, and `assistant` role prompts.\n",
    "\n",
    "Let's take a peek at what they look like:\n",
    "\n",
    "```python\n",
    "class BasePrompt:\n",
    "    def __init__(self, prompt):\n",
    "        \"\"\"\n",
    "        Initializes the BasePrompt object with a prompt template.\n",
    "\n",
    "        :param prompt: A string that can contain placeholders within curly braces\n",
    "        \"\"\"\n",
    "        self.prompt = prompt\n",
    "        self._pattern = re.compile(r\"\\{([^}]+)\\}\")\n",
    "\n",
    "    def format_prompt(self, **kwargs):\n",
    "        \"\"\"\n",
    "        Formats the prompt string using the keyword arguments provided.\n",
    "\n",
    "        :param kwargs: The values to substitute into the prompt string\n",
    "        :return: The formatted prompt string\n",
    "        \"\"\"\n",
    "        matches = self._pattern.findall(self.prompt)\n",
    "        return self.prompt.format(**{match: kwargs.get(match, \"\") for match in matches})\n",
    "\n",
    "    def get_input_variables(self):\n",
    "        \"\"\"\n",
    "        Gets the list of input variable names from the prompt string.\n",
    "\n",
    "        :return: List of input variable names\n",
    "        \"\"\"\n",
    "        return self._pattern.findall(self.prompt)\n",
    "```\n",
    "\n",
    "Then we have our `RolePrompt` which laser focuses us on the role pattern found in most API endpoints for LLMs.\n",
    "\n",
    "```python\n",
    "class RolePrompt(BasePrompt):\n",
    "    def __init__(self, prompt, role: str):\n",
    "        \"\"\"\n",
    "        Initializes the RolePrompt object with a prompt template and a role.\n",
    "\n",
    "        :param prompt: A string that can contain placeholders within curly braces\n",
    "        :param role: The role for the message ('system', 'user', or 'assistant')\n",
    "        \"\"\"\n",
    "        super().__init__(prompt)\n",
    "        self.role = role\n",
    "\n",
    "    def create_message(self, **kwargs):\n",
    "        \"\"\"\n",
    "        Creates a message dictionary with a role and a formatted message.\n",
    "\n",
    "        :param kwargs: The values to substitute into the prompt string\n",
    "        :return: Dictionary containing the role and the formatted message\n",
    "        \"\"\"\n",
    "        return {\"role\": self.role, \"content\": self.format_prompt(**kwargs)}\n",
    "```\n",
    "\n",
    "We'll look at how the `SystemRolePrompt` is constructed to get a better idea of how that extension works:\n",
    "\n",
    "```python\n",
    "class SystemRolePrompt(RolePrompt):\n",
    "    def __init__(self, prompt: str):\n",
    "        super().__init__(prompt, \"system\")\n",
    "```\n",
    "\n",
    "That pattern is repeated for our `UserRolePrompt` and our `AssistantRolePrompt` as well."
   ]
  },
  {
   "cell_type": "markdown",
   "metadata": {
    "id": "D361R6sMR6yw"
   },
   "source": [
    "##### ChatOpenAI"
   ]
  },
  {
   "cell_type": "markdown",
   "metadata": {
    "id": "HJVQ2Pm8R6yw"
   },
   "source": [
    "Next we have our model, which is converted to a format analagous to libraries like LangChain and LlamaIndex.\n",
    "\n",
    "Let's take a peek at how that is constructed:\n",
    "\n",
    "```python\n",
    "class ChatOpenAI:\n",
    "    def __init__(self, model_name: str = \"gpt-4o-mini\"):\n",
    "        self.model_name = model_name\n",
    "        self.openai_api_key = os.getenv(\"OPENAI_API_KEY\")\n",
    "        if self.openai_api_key is None:\n",
    "            raise ValueError(\"OPENAI_API_KEY is not set\")\n",
    "\n",
    "    def run(self, messages, text_only: bool = True):\n",
    "        if not isinstance(messages, list):\n",
    "            raise ValueError(\"messages must be a list\")\n",
    "\n",
    "        openai.api_key = self.openai_api_key\n",
    "        response = openai.ChatCompletion.create(\n",
    "            model=self.model_name, messages=messages\n",
    "        )\n",
    "\n",
    "        if text_only:\n",
    "            return response.choices[0].message.content\n",
    "\n",
    "        return response\n",
    "```"
   ]
  },
  {
   "cell_type": "markdown",
   "metadata": {
    "id": "qCU7FfhIR6yw"
   },
   "source": [
    "#### \u2753 Question #3:\n",
    "\n",
    "When calling the OpenAI API - are there any ways we can achieve more reproducible outputs?\n",
    "\n",
    "> NOTE: Check out [this section](https://platform.openai.com/docs/guides/text-generation/) of the OpenAI documentation for the answer!"
   ]
  },
  {
   "cell_type": "markdown",
   "metadata": {},
   "source": [
    "### Answer\n",
    "\n",
    "While keeping the same prompt is obvious :). According to the link we can: set temperature to 0 -> it reduces randomness in token sampling.\n",
    "\n",
    "\n",
    "Also, it looks like there is a seed parameter. https://platform.openai.com/docs/api-reference/chat/create#chat-create-seed\n",
    "\n",
    "it should work similar to other statistics python libraries, but it's in the beta now. \n",
    "\n",
    "\n",
    "\n",
    "\n"
   ]
  },
  {
   "cell_type": "markdown",
   "metadata": {
    "id": "c5wcjMLCR6yw"
   },
   "source": [
    "### Creating and Prompting OpenAI's `gpt-4o-mini`!\n",
    "\n",
    "Let's tie all these together and use it to prompt `gpt-4o-mini`!"
   ]
  },
  {
   "cell_type": "code",
   "execution_count": 55,
   "metadata": {
    "id": "WIfpIot7R6yw"
   },
   "outputs": [],
   "source": [
    "from aimakerspace.openai_utils.prompts import (\n",
    "    UserRolePrompt,\n",
    "    SystemRolePrompt,\n",
    "    AssistantRolePrompt,\n",
    ")\n",
    "\n",
    "from aimakerspace.openai_utils.chatmodel import ChatOpenAI\n",
    "\n",
    "chat_openai = ChatOpenAI()\n",
    "user_prompt_template = \"{content}\"\n",
    "user_role_prompt = UserRolePrompt(user_prompt_template)\n",
    "system_prompt_template = (\n",
    "    \"You are an expert in {expertise}, you always answer in a kind way.\"\n",
    ")\n",
    "system_role_prompt = SystemRolePrompt(system_prompt_template)\n",
    "\n",
    "messages = [\n",
    "    system_role_prompt.create_message(expertise=\"Python\"),\n",
    "    user_role_prompt.create_message(\n",
    "        content=\"What is the best way to write a loop?\"\n",
    "    ),\n",
    "]\n",
    "\n",
    "response = chat_openai.run(messages)"
   ]
  },
  {
   "cell_type": "code",
   "execution_count": 56,
   "metadata": {
    "colab": {
     "base_uri": "https://localhost:8080/"
    },
    "id": "dHo7lssNR6yw",
    "outputId": "1d3823fa-bb6b-45f6-ddba-b41686388324"
   },
   "outputs": [
    {
     "name": "stdout",
     "output_type": "stream",
     "text": [
      "The best way to write a loop in Python largely depends on what you want to achieve. However, here are some general tips and common practices to help you write effective and readable loops:\n",
      "\n",
      "1. **Choose the Right Loop Type**: \n",
      "   - Use a `for` loop when you need to iterate over a sequence (like a list, tuple, string, or range).\n",
      "   - Use a `while` loop when you want to repeat an action as long as a certain condition is true.\n",
      "\n",
      "2. **Use Meaningful Variable Names**:\n",
      "   - Choose descriptive names for your loop variables to make your code easier to read and understand.\n",
      "\n",
      "3. **Keep the Loop Body Simple**:\n",
      "   - Try to keep the logic inside the loop straightforward and concise. If the loop body becomes complex, consider moving some of the logic into a separate function.\n",
      "\n",
      "4. **Use Built-in Functions**:\n",
      "   - Take advantage of Python's built-in functions and iterators, such as `enumerate()`, `zip()`, and list comprehensions, for more concise and efficient code.\n",
      "\n",
      "5. **Avoid Unnecessary Computations**:\n",
      "   - If your loop performs the same calculation multiple times, try to compute it outside the loop instead.\n",
      "\n",
      "Here\u2019s a basic example using a `for` loop:\n",
      "\n",
      "```python\n",
      "# Example of a for loop\n",
      "numbers = [1, 2, 3, 4, 5]\n",
      "\n",
      "for number in numbers:\n",
      "    # Perform some action, e.g., square the number\n",
      "    squared = number ** 2\n",
      "    print(f\"The square of {number} is {squared}\")\n",
      "```\n",
      "\n",
      "And here\u2019s a basic example using a `while` loop:\n",
      "\n",
      "```python\n",
      "# Example of a while loop\n",
      "count = 0\n",
      "\n",
      "while count < 5:\n",
      "    print(f\"Current count is {count}\")\n",
      "    count += 1  # Increment the count\n",
      "```\n",
      "\n",
      "If you have specific use cases in mind or need help with a particular loop, feel free to share! I'm here to help.\n"
     ]
    }
   ],
   "source": [
    "print(response)"
   ]
  },
  {
   "cell_type": "markdown",
   "metadata": {
    "id": "r2nxxhB2R6yy"
   },
   "source": [
    "## Task 5: Retrieval Augmented Generation\n",
    "\n",
    "Now we can create a RAG prompt - which will help our system behave in a way that makes sense!\n",
    "\n",
    "There is much you could do here, many tweaks and improvements to be made!"
   ]
  },
  {
   "cell_type": "code",
   "execution_count": 57,
   "metadata": {
    "id": "D1hamzGaR6yy"
   },
   "outputs": [],
   "source": [
    "RAG_SYSTEM_TEMPLATE = \"\"\"You are a knowledgeable assistant that answers questions based strictly on provided context.\n",
    "\n",
    "Instructions:\n",
    "- Only answer questions using information from the provided context\n",
    "- If the context doesn't contain relevant information, respond with \"I don't know\"\n",
    "- Be accurate and cite specific parts of the context when possible\n",
    "- Keep responses {response_style} and {response_length}\n",
    "- Only use the provided context. Do not use external knowledge.\n",
    "- Only provide answers when you are confident the context supports your response.\"\"\"\n",
    "\n",
    "RAG_USER_TEMPLATE = \"\"\"Context Information:\n",
    "{context}\n",
    "\n",
    "Number of relevant sources found: {context_count}\n",
    "{similarity_scores}\n",
    "\n",
    "Question: {user_query}\n",
    "\n",
    "Please provide your answer based solely on the context above.\"\"\"\n",
    "\n",
    "rag_system_prompt = SystemRolePrompt(\n",
    "    RAG_SYSTEM_TEMPLATE,\n",
    "    strict=True,\n",
    "    defaults={\n",
    "        \"response_style\": \"concise\",\n",
    "        \"response_length\": \"brief\"\n",
    "    }\n",
    ")\n",
    "\n",
    "rag_user_prompt = UserRolePrompt(\n",
    "    RAG_USER_TEMPLATE,\n",
    "    strict=True,\n",
    "    defaults={\n",
    "        \"context_count\": \"\",\n",
    "        \"similarity_scores\": \"\"\n",
    "    }\n",
    ")"
   ]
  },
  {
   "cell_type": "markdown",
   "metadata": {},
   "source": [
    "Now we can create our pipeline!"
   ]
  },
  {
   "cell_type": "code",
   "execution_count": 58,
   "metadata": {},
   "outputs": [],
   "source": [
    "class RetrievalAugmentedQAPipeline:\n",
    "    def __init__(self, llm: ChatOpenAI(), vector_db_retriever: VectorDatabase, \n",
    "                 response_style: str = \"detailed\", include_scores: bool = False) -> None:\n",
    "        self.llm = llm\n",
    "        self.vector_db_retriever = vector_db_retriever\n",
    "        self.response_style = response_style\n",
    "        self.include_scores = include_scores\n",
    "\n",
    "    def run_pipeline(self, user_query: str, k: int = 4, **system_kwargs) -> dict:\n",
    "        # Retrieve relevant contexts\n",
    "        context_list = self.vector_db_retriever.search_by_text(user_query, k=k)\n",
    "        \n",
    "        context_prompt = \"\"\n",
    "        similarity_scores = []\n",
    "        \n",
    "        for i, (context, score) in enumerate(context_list, 1):\n",
    "            context_prompt += f\"[Source {i}]: {context}\\n\\n\"\n",
    "            similarity_scores.append(f\"Source {i}: {score:.3f}\")\n",
    "        \n",
    "        # Create system message with parameters\n",
    "        system_params = {\n",
    "            \"response_style\": self.response_style,\n",
    "            \"response_length\": system_kwargs.get(\"response_length\", \"detailed\")\n",
    "        }\n",
    "        \n",
    "        formatted_system_prompt = rag_system_prompt.create_message(**system_params)\n",
    "        \n",
    "        user_params = {\n",
    "            \"user_query\": user_query,\n",
    "            \"context\": context_prompt.strip(),\n",
    "            \"context_count\": len(context_list),\n",
    "            \"similarity_scores\": f\"Relevance scores: {', '.join(similarity_scores)}\" if self.include_scores else \"\"\n",
    "        }\n",
    "        \n",
    "        formatted_user_prompt = rag_user_prompt.create_message(**user_params)\n",
    "\n",
    "        return {\n",
    "            \"response\": self.llm.run([formatted_system_prompt, formatted_user_prompt]), \n",
    "            \"context\": context_list,\n",
    "            \"context_count\": len(context_list),\n",
    "            \"similarity_scores\": similarity_scores if self.include_scores else None,\n",
    "            \"prompts_used\": {\n",
    "                \"system\": formatted_system_prompt,\n",
    "                \"user\": formatted_user_prompt\n",
    "            }\n",
    "        }"
   ]
  },
  {
   "cell_type": "code",
   "execution_count": 59,
   "metadata": {},
   "outputs": [
    {
     "name": "stdout",
     "output_type": "stream",
     "text": [
      "Response: The 'Michael Eisner Memorial Weak Executive Problem' refers to the tendency of CEOs or startup founders to hire weaker executives in the functions where they themselves excel. This happens when a CEO, having come from a specific area such as product management, sales, or marketing, chooses to hire a less capable individual for that role. The underlying issue is that the CEO has difficulty letting go of the function that initially brought them success, leading to hiring someone weak so they can maintain control and continue to be perceived as the strong figure in that area. This phenomenon is illustrated by the example of Michael Eisner, the former CEO of Disney, who, despite his capabilities in television, oversaw a situation where ABC fell to fourth place under his management, highlighting the consequences of such hiring practices.\n",
      "\n",
      "Context Count: 3\n",
      "Similarity Scores: ['Source 1: 0.658', 'Source 2: 0.509', 'Source 3: 0.479']\n"
     ]
    }
   ],
   "source": [
    "rag_pipeline = RetrievalAugmentedQAPipeline(\n",
    "    vector_db_retriever=vector_db,\n",
    "    llm=chat_openai,\n",
    "    response_style=\"detailed\",\n",
    "    include_scores=True\n",
    ")\n",
    "\n",
    "result = rag_pipeline.run_pipeline(\n",
    "    \"What is the 'Michael Eisner Memorial Weak Executive Problem'?\",\n",
    "    k=3,\n",
    "    response_length=\"comprehensive\", \n",
    "    include_warnings=True,\n",
    "    confidence_required=True\n",
    ")\n",
    "\n",
    "print(f\"Response: {result['response']}\")\n",
    "print(f\"\\nContext Count: {result['context_count']}\")\n",
    "print(f\"Similarity Scores: {result['similarity_scores']}\")\n"
   ]
  },
  {
   "cell_type": "markdown",
   "metadata": {
    "id": "zZIJI19uR6yz"
   },
   "source": [
    "#### \u2753 Question #4:\n",
    "\n",
    "What prompting strategies could you use to make the LLM have a more thoughtful, detailed response?\n",
    "\n",
    "What is that strategy called?\n",
    "\n",
    "> NOTE: You can look through [\"Accessing GPT-3.5-turbo Like a Developer\"](https://colab.research.google.com/drive/1mOzbgf4a2SP5qQj33ZxTz2a01-5eXqk2?usp=sharing) for an answer to this question if you get stuck!"
   ]
  },
  {
   "cell_type": "markdown",
   "metadata": {},
   "source": [
    "### Answer\n",
    "\n",
    "1. Chain-of-Thought Prompting will do the job. It makes the model to slow down, reason more. We spend more tokens and it makes the quality of the answer better. \n",
    "\n",
    "2. System role prompting\n",
    "\n",
    "3. Few-shot prompting -> giving the model some examples of good and bad output"
   ]
  },
  {
   "cell_type": "markdown",
   "metadata": {},
   "source": [
    "### \ud83c\udfd7\ufe0f Activity #1:\n",
    "\n",
    "Enhance your RAG application in some way! \n",
    "\n",
    "Suggestions are: \n",
    "\n",
    "- Allow it to work with PDF files\n",
    "- Implement a new distance metric\n",
    "- Add metadata support to the vector database\n",
    "\n",
    "While these are suggestions, you should feel free to make whatever augmentations you desire! \n",
    "\n",
    "> NOTE: These additions might require you to work within the `aimakerspace` library - that's expected!\n",
    "\n",
    "> NOTE: If you're not sure where to start - ask Cursor (CMD/CTRL+L) to guide you through the changes!"
   ]
  },
  {
   "cell_type": "code",
   "execution_count": 60,
   "metadata": {},
   "outputs": [],
   "source": [
    "import PyPDF2\n",
    "\n",
    "class PDFFileLoader:\n",
    "    def __init__(self, path: str):\n",
    "        self.path = path\n",
    "        self.documents = []\n",
    "\n",
    "    def load_file(self):\n",
    "        \"\"\"Extract text from PDF file\"\"\"\n",
    "        with open(self.path, 'rb') as file:\n",
    "            pdf_reader = PyPDF2.PdfReader(file)\n",
    "            text = \"\"\n",
    "            for page in pdf_reader.pages:\n",
    "                text += page.extract_text() + \"\\n\"\n",
    "            self.documents.append(text)\n",
    "\n",
    "    def load_documents(self):\n",
    "        \"\"\"Load and return documents\"\"\"\n",
    "        if not self.documents:\n",
    "            self.load_file()\n",
    "        return self.documents"
   ]
  },
  {
   "cell_type": "code",
   "execution_count": 61,
   "metadata": {},
   "outputs": [
    {
     "name": "stdout",
     "output_type": "stream",
     "text": [
      "\n",
      " First 200 characters:\n",
      "How to Do Great Work - # 217\n",
      "July 2023\n",
      "If you collected lists of techniques for doing great work in a lot of different fields, what would the \n",
      "intersection look like? I decided to find out by making i\n",
      "\n",
      " Sample from middle:\n",
      "ing differently as a result. [7]\n",
      "Surely I'm not claiming that ideas have to have practical applications to be interesting? No, they \n",
      "may not have to. Hardy's boast that number theory had no use whatso\n"
     ]
    }
   ],
   "source": [
    "# Test PDFFileLoader with Paul Graham Essays PDF\n",
    "pdf_loader = PDFFileLoader(\"data/paulgraham-essays.pdf\")\n",
    "pdf_documents = pdf_loader.load_documents()\n",
    "\n",
    "\n",
    "print(\"\\n First 200 characters:\")\n",
    "print(pdf_documents[0][:200])\n",
    "print(\"\\n Sample from middle:\")\n",
    "print(pdf_documents[0][len(pdf_documents[0])//2:len(pdf_documents[0])//2 + 200])"
   ]
  },
  {
   "cell_type": "code",
   "execution_count": 62,
   "metadata": {},
   "outputs": [
    {
     "name": "stdout",
     "output_type": "stream",
     "text": [
      "Loaded PDF: data/paulgraham-essays.pdf\n",
      "Split into 3736 chunks\n",
      "Processed batch 1/8 (512 texts)\n",
      "Processed batch 2/8 (512 texts)\n",
      "Processed batch 3/8 (512 texts)\n",
      "Processed batch 4/8 (512 texts)\n",
      "Processed batch 5/8 (512 texts)\n",
      "Processed batch 6/8 (512 texts)\n",
      "Processed batch 7/8 (512 texts)\n",
      "Processed batch 8/8 (152 texts)\n",
      "Vector database ready!\n"
     ]
    }
   ],
   "source": [
    "from aimakerspace.text_utils import CharacterTextSplitter\n",
    "from aimakerspace.vectordatabase import VectorDatabase\n",
    "\n",
    "\n",
    "async def create_vector_db_from_pdf(pdf_path: str):\n",
    "    \"\"\"\n",
    "    Create vector database from a PDF file - same approach as notebook\n",
    "    \"\"\"\n",
    "    # Load PDF\n",
    "    pdf_loader = PDFFileLoader(pdf_path)\n",
    "    documents = pdf_loader.load_documents()\n",
    "    print(f\"Loaded PDF: {pdf_path}\")\n",
    "    \n",
    "    # Split into chunks\n",
    "    text_splitter = CharacterTextSplitter()\n",
    "    split_documents = text_splitter.split_texts(documents)\n",
    "    print(f\"Split into {len(split_documents)} chunks\")\n",
    "    \n",
    "    # Create vector database\n",
    "    vector_db = VectorDatabase()\n",
    "    vector_db = await vector_db.abuild_from_list(split_documents)\n",
    "    print(\"Vector database ready!\")\n",
    "    \n",
    "    return vector_db\n",
    "\n",
    "pg_vector_db = await create_vector_db_from_pdf(\"data/paulgraham-essays.pdf\")"
   ]
  },
  {
   "cell_type": "code",
   "execution_count": 63,
   "metadata": {},
   "outputs": [
    {
     "data": {
      "text/plain": [
       "[(\"or long. Eventually something would come up that required \\nme to use it more than that. And then I'd gradually slip back into my old ways.\\nAddictive things have to be treated as if they were sentient adversaries\u2014as if there were a little \\nman in your head always cooking up the most plausible arguments for doing whatever you're \\ntrying to stop doing. If you leave a path to it, he'll find it.\\nThe key seems to be visibility. The biggest ingredient in most bad habits is denial. So you have \\nto make it so that you can't merely slip into doing the thing you're trying to avoid. It has to set off \\nalarms.\\nMaybe in the long term the right answer for dealing with Internet distractions will be software \\nthat watches and controls them. But in the meantime I've found a more drastic solution that \\ndefinitely works: to set up a separate computer for using the Internet.\\nI now leave wifi turned off on my main computer except when I need to transfer a file or edit a \\nweb page, and I have a separate lapt\",\n",
       "  np.float64(0.47492949967252435)),\n",
       " (\"ainly by curiosity, but have a second self watching \\nover your shoulder, taking note of gaps and anomalies. [6]\\nGive yourself some time. You have a lot of control over the rate at which you turn yours into a \\nprepared mind, but you have less control over the stimuli that spark ideas when they hit it. If Bill \\nGates and Paul Allen had constrained themselves to come up with a startup idea in one month, \\nwhat if they'd chosen a month before the Altair appeared? They probably would have worked \\non a less promising idea. Drew Houston did work on a less promising idea before Dropbox: an \\nSAT prep startup. But Dropbox was a much better idea, both in the absolute sense and also as \\na match for his skills. [7]\\nA good way to trick yourself into noticing ideas is to work on projects that seem like they'd be \\ncool. If you do that, you'll naturally tend to build things that are missing. It wouldn't seem as \\ninteresting to build something that already existed.\\nJust as trying to think up startup idea\",\n",
       "  np.float64(0.4016329013430943)),\n",
       " (\", we'll be increasingly unable to rely on customs to protect us. [3] \\nUnless we want to be canaries in the coal mine of each new addiction\u2014the people whose sad \\nexample becomes a lesson to future generations\u2014we'll have to figure out for ourselves what to \\navoid and how. It will actually become a reasonable strategy (or a more reasonable strategy) to \\nsuspect everything new.\\nIn fact, even that won't be enough. We'll have to worry not just about new things, but also about \\nexisting things becoming more addictive. That's what bit me. I've avoided most addictions, but \\nthe Internet got me because it became addictive while I was using it. [4]\\nMost people I know have problems with Internet addiction. We're all trying to figure out our own \\ncustoms for getting free of it. That's why I don't have an iPhone, for example; the last thing I \\nwant is for the Internet to follow me out into the world. [5] My latest trick is taking long hikes. I \\nused to think running was a better form of exercise tha\",\n",
       "  np.float64(0.38986742622169956))]"
      ]
     },
     "execution_count": 63,
     "metadata": {},
     "output_type": "execute_result"
    }
   ],
   "source": [
    "pg_vector_db.search_by_text(\"How to develop a habbit\", k=3)"
   ]
  },
  {
   "cell_type": "code",
   "execution_count": 64,
   "metadata": {},
   "outputs": [],
   "source": [
    "class RetrievalAugmentedQAPipeline:\n",
    "    def __init__(self, llm: ChatOpenAI(), vector_db_retriever: VectorDatabase, \n",
    "                 response_style: str = \"detailed\", include_scores: bool = False) -> None:\n",
    "        self.llm = llm\n",
    "        self.vector_db_retriever = vector_db_retriever\n",
    "        self.response_style = response_style\n",
    "        self.include_scores = include_scores\n",
    "\n",
    "    def run_pipeline(self, user_query: str, k: int = 4, **system_kwargs) -> dict:\n",
    "        # Retrieve relevant contexts\n",
    "        context_list = self.vector_db_retriever.search_by_text(user_query, k=k)\n",
    "        \n",
    "        context_prompt = \"\"\n",
    "        similarity_scores = []\n",
    "        \n",
    "        for i, (context, score) in enumerate(context_list, 1):\n",
    "            context_prompt += f\"[Source {i}]: {context}\\n\\n\"\n",
    "            similarity_scores.append(f\"Source {i}: {score:.3f}\")\n",
    "        \n",
    "        # Create system message with parameters\n",
    "        system_params = {\n",
    "            \"response_style\": self.response_style,\n",
    "            \"response_length\": system_kwargs.get(\"response_length\", \"detailed\")\n",
    "        }\n",
    "        \n",
    "        formatted_system_prompt = rag_system_prompt.create_message(**system_params)\n",
    "        \n",
    "        user_params = {\n",
    "            \"user_query\": user_query,\n",
    "            \"context\": context_prompt.strip(),\n",
    "            \"context_count\": len(context_list),\n",
    "            \"similarity_scores\": f\"Relevance scores: {', '.join(similarity_scores)}\" if self.include_scores else \"\"\n",
    "        }\n",
    "        \n",
    "        formatted_user_prompt = rag_user_prompt.create_message(**user_params)\n",
    "\n",
    "        return {\n",
    "            \"response\": self.llm.run([formatted_system_prompt, formatted_user_prompt]), \n",
    "            \"context\": context_list,\n",
    "            \"context_count\": len(context_list),\n",
    "            \"similarity_scores\": similarity_scores if self.include_scores else None,\n",
    "            \"prompts_used\": {\n",
    "                \"system\": formatted_system_prompt,\n",
    "                \"user\": formatted_user_prompt\n",
    "            }\n",
    "        }"
   ]
  },
  {
   "cell_type": "code",
   "execution_count": 65,
   "metadata": {},
   "outputs": [
    {
     "name": "stdout",
     "output_type": "stream",
     "text": [
      "Response: According to the context provided, true happiness often stems from engagement and excitement in what one does, rather than from chasing financial security or superficial markers of success. For instance, Source 1 mentions that people who enjoy working creatively feel as if they are in their natural habitat, which makes them feel \"awake and alive,\" even if they experience anxiety or struggle in their work. \n",
      "\n",
      "Source 2 suggests that the happiest people are those who love what they do, indicating that finding work you enjoy is essential, although it can be a difficult journey. It emphasizes that having a clear destination\u2014knowing what work you love\u2014can help in achieving happiness.\n",
      "\n",
      "Moreover, Source 3 advocates for taking action and creating things, suggesting that if someone is unsure of what to do, they should focus on making something. The act of building and creating can lead to satisfaction and potentially happiness, steering away from excessive worrying.\n",
      "\n",
      "In summary, happiness can be pursued through engaging in meaningful work, understanding your passions, and taking action to create rather than getting bogged down by uncertainty.\n",
      "\n",
      "Context Count: 3\n",
      "Similarity Scores: ['Source 1: 0.421', 'Source 2: 0.407', 'Source 3: 0.403']\n"
     ]
    }
   ],
   "source": [
    "rag_pipeline = RetrievalAugmentedQAPipeline(\n",
    "    vector_db_retriever=pg_vector_db,\n",
    "    llm=chat_openai,\n",
    "    response_style=\"detailed\",\n",
    "    include_scores=True\n",
    ")\n",
    "\n",
    "result = rag_pipeline.run_pipeline(\n",
    "    \"How to be happy?\",\n",
    "    k=3,\n",
    "    response_length=\"comprehensive\", \n",
    "    include_warnings=True,\n",
    "    confidence_required=True\n",
    ")\n",
    "\n",
    "print(f\"Response: {result['response']}\")\n",
    "print(f\"\\nContext Count: {result['context_count']}\")\n",
    "print(f\"Similarity Scores: {result['similarity_scores']}\")\n"
   ]
  },
  {
   "cell_type": "markdown",
   "metadata": {},
   "source": [
    "Different Distance Metrics for RAG\n",
    "--------------------------------------------------------------\n",
    "\n",
    "Distance Metric        | Pros (Simple)                                      | Cons (Simple)\n",
    "-----------------------|----------------------------------------------------|--------------------------------------------------------------\n",
    "Cosine Similarity      | Matches meaning despite sentence length; fast      | Needs normalization; ignores word count and vector size\n",
    "Dot Product            | Uses direction and size; GPU-friendly              | Long texts can dominate; needs scaling\n",
    "Euclidean (L2)         | Intuitive distance; works well for many tasks      | High dimensions distort scale; needs feature scaling\n",
    "Manhattan (L1)         | Robust to outliers; simple math                    | Slower at scale; rarely supported in vector DBs\n",
    "Jaccard Similarity     | Great for sets and keywords                        | Not for dense vectors; ignores semantic meaning\n",
    "Hamming Distance       | Very fast on binary data                           | Requires hashing; loses detailed meaning\n",
    "Learned / Mahalanobis  | Adapts to your data; can be most accurate          | Needs training and data; hard to explain or debug\n",
    "\n",
    "--------------------------------------------------------------"
   ]
  },
  {
   "cell_type": "code",
   "execution_count": 66,
   "metadata": {},
   "outputs": [],
   "source": [
    "# Let's add new distance metric to the RAG pipeline\n",
    "\n",
    "import numpy as np\n",
    "\n",
    "# 1. Define ALL distance metrics\n",
    "def cosine_similarity(vector_a: np.array, vector_b: np.array) -> float:\n",
    "    \"\"\"Computes the cosine similarity between two vectors.\"\"\"\n",
    "    dot_product = np.dot(vector_a, vector_b)\n",
    "    norm_a = np.linalg.norm(vector_a)\n",
    "    norm_b = np.linalg.norm(vector_b)\n",
    "    return dot_product / (norm_a * norm_b)\n",
    "\n",
    "def dot_product(vector_a: np.array, vector_b: np.array) -> float:\n",
    "    \"\"\"Computes the dot product between two vectors.\"\"\"\n",
    "    return np.dot(vector_a, vector_b)\n",
    "\n",
    "def euclidean_distance(vector_a: np.array, vector_b: np.array) -> float:\n",
    "    \"\"\"Computes euclidean (L2) distance.\"\"\"\n",
    "    return -np.linalg.norm(vector_a - vector_b)  # Negative so higher scores = more similar\n",
    "\n",
    "def manhattan_distance(vector_a: np.array, vector_b: np.array) -> float:\n",
    "    \"\"\"Computes manhattan (L1) distance.\"\"\"\n",
    "    return -np.sum(np.abs(vector_a - vector_b))  # Negative so higher scores = more similar\n",
    "\n",
    "def jaccard_similarity(vector_a: np.array, vector_b: np.array) -> float:\n",
    "    \"\"\"Computes Jaccard similarity for continuous vectors.\"\"\"\n",
    "    threshold_a = np.mean(vector_a)\n",
    "    threshold_b = np.mean(vector_b)\n",
    "    \n",
    "    binary_a = (vector_a > threshold_a).astype(int)\n",
    "    binary_b = (vector_b > threshold_b).astype(int)\n",
    "    \n",
    "    intersection = np.sum(binary_a & binary_b)\n",
    "    union = np.sum(binary_a | binary_b)\n",
    "    \n",
    "    return intersection / union if union > 0 else 0.0\n",
    "\n",
    "def hamming_distance(vector_a: np.array, vector_b: np.array) -> float:\n",
    "    \"\"\"Computes Hamming distance for continuous vectors.\"\"\"\n",
    "    threshold_a = np.mean(vector_a)\n",
    "    threshold_b = np.mean(vector_b)\n",
    "    \n",
    "    binary_a = (vector_a > threshold_a).astype(int)\n",
    "    binary_b = (vector_b > threshold_b).astype(int)\n",
    "    \n",
    "    hamming_dist = np.sum(binary_a != binary_b)\n",
    "    return -(hamming_dist / len(vector_a))\n",
    "\n",
    "# 2. Distance metrics registry\n",
    "DISTANCE_METRICS = {\n",
    "    'cosine': cosine_similarity,\n",
    "    'dot_product': dot_product,\n",
    "    'euclidean': euclidean_distance,\n",
    "    'manhattan': manhattan_distance,\n",
    "    'jaccard': jaccard_similarity,\n",
    "    'hamming': hamming_distance,\n",
    "}\n",
    "\n",
    "# 3. RAG Pipeline with switchable distance metric\n",
    "class RetrievalAugmentedQAPipeline:\n",
    "    def __init__(self, llm, vector_db_retriever, \n",
    "                 response_style: str = \"detailed\", \n",
    "                 include_scores: bool = False,\n",
    "                 distance_metric: str = \"cosine\"):\n",
    "        self.llm = llm\n",
    "        self.vector_db_retriever = vector_db_retriever\n",
    "        self.response_style = response_style\n",
    "        self.include_scores = include_scores\n",
    "        self.distance_metric = distance_metric\n",
    "    \n",
    "    def set_distance_metric(self, metric_name: str):\n",
    "        \"\"\"Change the distance metric dynamically\"\"\"\n",
    "        if metric_name in DISTANCE_METRICS:\n",
    "            self.distance_metric = metric_name\n",
    "            print(f\"\u2705 Distance metric changed to: {metric_name}\")\n",
    "        else:\n",
    "            print(f\"\u274c Unknown metric: {metric_name}\")\n",
    "            print(f\"Available: {list(DISTANCE_METRICS.keys())}\")\n",
    "        \n",
    "    def run_pipeline(self, user_query: str, k: int = 4, distance_metric: str = None, **system_kwargs) -> dict:\n",
    "        current_metric = distance_metric or self.distance_metric\n",
    "        distance_func = DISTANCE_METRICS.get(current_metric, cosine_similarity)\n",
    "        \n",
    "        context_list = self.vector_db_retriever.search_by_text(\n",
    "            user_query, \n",
    "            k=k, \n",
    "            distance_measure=distance_func\n",
    "        )\n",
    "        \n",
    "        context_prompt = \"\"\n",
    "        similarity_scores = []\n",
    "        \n",
    "        for i, (context, score) in enumerate(context_list, 1):\n",
    "            context_prompt += f\"[Source {i}]: {context}\\n\\n\"\n",
    "            similarity_scores.append(f\"Source {i}: {score:.3f}\")\n",
    "        \n",
    "        system_params = {\n",
    "            \"response_style\": self.response_style,\n",
    "            \"response_length\": system_kwargs.get(\"response_length\", \"detailed\")\n",
    "        }\n",
    "        \n",
    "        formatted_system_prompt = rag_system_prompt.create_message(**system_params)\n",
    "        \n",
    "        user_params = {\n",
    "            \"user_query\": user_query,\n",
    "            \"context\": context_prompt.strip(),\n",
    "            \"context_count\": len(context_list),\n",
    "            \"similarity_scores\": f\"Relevance scores ({current_metric}): {', '.join(similarity_scores)}\" if self.include_scores else \"\"\n",
    "        }\n",
    "        \n",
    "        formatted_user_prompt = rag_user_prompt.create_message(**user_params)\n",
    "\n",
    "        return {\n",
    "            \"response\": self.llm.run([formatted_system_prompt, formatted_user_prompt]), \n",
    "            \"context\": context_list,\n",
    "            \"context_count\": len(context_list),\n",
    "            \"similarity_scores\": similarity_scores if self.include_scores else None,\n",
    "            \"distance_metric\": current_metric,\n",
    "            \"prompts_used\": {\n",
    "                \"system\": formatted_system_prompt,\n",
    "                \"user\": formatted_user_prompt\n",
    "            }\n",
    "        }"
   ]
  },
  {
   "cell_type": "code",
   "execution_count": 67,
   "metadata": {},
   "outputs": [
    {
     "name": "stdout",
     "output_type": "stream",
     "text": [
      "Response: Based on the provided context, happiness can be associated with engaging in work that you love and finding excitement in the process of creation. The happiest people are not necessarily those who possess financial security but those who genuinely enjoy their work (Source 2). It is important to focus on what you love and find meaning in your endeavors, even if that means navigating struggles along the way.\n",
      "\n",
      "Furthermore, for those uncertain about their path, taking action and creating something can lead to fulfillment. For example, the suggestion in Source 3 to \"make something\" rather than spending too much time worrying about what to do can be a way to cultivate happiness. Engaging in projects and building things contributes to feelings of being \"awake and alive,\" as stated in Source 1.\n",
      "\n",
      "Overall, the journey towards happiness involves pursuing work that resonates with you, embracing challenges, and taking creative actions that can lead to a sense of fulfillment and excitement.\n",
      "\n",
      "Context Count: 3\n",
      "Similarity Scores: ['Source 1: -1.076', 'Source 2: -1.089', 'Source 3: -1.093']\n",
      "\n",
      "\n",
      "Response: Based on the context provided, happiness is not solely tied to achieving financial security or having everything go well. Instead, it seems to stem from engagement and excitement in the work you do. In Source 1, it states that people who enjoy working find a sense of being \"awake and alive,\" even if they're not always happy. This suggests that finding work that truly resonates with you is crucial for a deeper sense of fulfillment.\n",
      "\n",
      "Source 2 reinforces this idea by indicating that the happiest people are not necessarily those with financial security, but those who enjoy what they do. It acknowledges that finding work you love can be a struggle and that many people fail in this pursuit, but having a clear idea of the destination makes it more likely to achieve.\n",
      "\n",
      "Additionally, Source 3 emphasizes the importance of taking action and building things, suggesting that spending less time worrying and more time creating can lead to happiness. The ability to \"just hack things together\" and engage in creative endeavors adds to the sense of satisfaction.\n",
      "\n",
      "In summary, being happy involves finding work you love, engaging in meaningful creation, and being active rather than passive in your pursuits.\n",
      "\n",
      "Context Count: 3\n",
      "Similarity Scores: ['Source 1: 0.421', 'Source 2: 0.407', 'Source 3: 0.403']\n"
     ]
    }
   ],
   "source": [
    "rag_pipeline = RetrievalAugmentedQAPipeline(\n",
    "    vector_db_retriever=pg_vector_db,\n",
    "    llm=chat_openai,\n",
    "    response_style=\"detailed\",\n",
    "    include_scores=True\n",
    ")\n",
    "\n",
    "result_eucliadean = rag_pipeline.run_pipeline(\"How to be happy?\", k=3, distance_metric=\"euclidean\")\n",
    "\n",
    "print(f\"Response: {result_eucliadean['response']}\")\n",
    "print(f\"\\nContext Count: {result_eucliadean['context_count']}\")\n",
    "print(f\"Similarity Scores: {result_eucliadean['similarity_scores']}\")\n",
    "\n",
    "\n",
    "result_cosine = rag_pipeline.run_pipeline(\"How to be happy?\", k=3, distance_metric=\"cosine\")\n",
    "\n",
    "print(f\"\\n\\nResponse: {result_cosine['response']}\")\n",
    "print(f\"\\nContext Count: {result_cosine['context_count']}\")\n",
    "print(f\"Similarity Scores: {result_cosine['similarity_scores']}\")"
   ]
  },
  {
   "cell_type": "code",
   "execution_count": 68,
   "metadata": {},
   "outputs": [
    {
     "name": "stdout",
     "output_type": "stream",
     "text": [
      "Response: Based on the provided context, happiness is not necessarily derived from financial security but rather from engaging in work that you love. Source 2 states, \"the happiest people are not those who have it [financial security], but those who like what they do.\" This suggests that finding work you enjoy is paramount to happiness.\n",
      "\n",
      "Additionally, Source 1 emphasizes that feeling excited or engaged in the process of problem-solving and creative work can lead to moments of happiness, even if those moments are fleeting. It describes how working on challenging tasks can make one feel \"awake and alive,\" indicating that engagement in meaningful endeavors contributes positively to one's happiness.\n",
      "\n",
      "Source 3 offers the perspective that instead of spending time worrying about what to do, one should focus on creating and building things. The idea is that taking action, whether through creativity or hands-on projects, reduces worry and enhances fulfillment.\n",
      "\n",
      "In summary, to foster happiness according to the context, one should seek work they love, engage fully in creative processes, and take action instead of worrying about indecision.\n",
      "\n",
      "Context Count: 3\n",
      "Similarity Scores: ['Source 1: 0.421', 'Source 2: 0.407', 'Source 3: 0.403']\n"
     ]
    }
   ],
   "source": [
    "rag_pipeline = RetrievalAugmentedQAPipeline(\n",
    "    vector_db_retriever=pg_vector_db,\n",
    "    llm=chat_openai,\n",
    "    response_style=\"detailed\",\n",
    "    include_scores=True,\n",
    "    distance_metric=\"hamming_distance\"\n",
    ")\n",
    "\n",
    "result = rag_pipeline.run_pipeline(\n",
    "    \"How to be happy?\",\n",
    "    k=3,\n",
    "    response_length=\"comprehensive\", \n",
    "    include_warnings=True,\n",
    "    confidence_required=True\n",
    ")\n",
    "\n",
    "print(f\"Response: {result['response']}\")\n",
    "print(f\"\\nContext Count: {result['context_count']}\")\n",
    "print(f\"Similarity Scores: {result['similarity_scores']}\")\n"
   ]
  },
  {
   "cell_type": "code",
   "execution_count": 69,
   "metadata": {},
   "outputs": [
    {
     "name": "stdout",
     "output_type": "stream",
     "text": [
      "Euclidean: ['Source 1: -1.076', 'Source 2: -1.089', 'Source 3: -1.093']\n",
      "Jaccard  : ['Source 1: 0.479', 'Source 2: 0.465', 'Source 3: 0.458']\n"
     ]
    }
   ],
   "source": [
    "# Test with metrics that show big differences\n",
    "rag_pipeline = RetrievalAugmentedQAPipeline(\n",
    "    vector_db_retriever=pg_vector_db,\n",
    "    llm=chat_openai,\n",
    "    response_style=\"detailed\",\n",
    "    include_scores=True\n",
    ")\n",
    "\n",
    "# Compare euclidean vs jaccard - very different!\n",
    "result1 = rag_pipeline.run_pipeline(\"How to be happy?\", k=3, distance_metric=\"euclidean\")\n",
    "result2 = rag_pipeline.run_pipeline(\"How to be happy?\", k=3, distance_metric=\"jaccard\")\n",
    "\n",
    "print(\"Euclidean:\", result1['similarity_scores'])\n",
    "print(\"Jaccard  :\", result2['similarity_scores'])"
   ]
  },
  {
   "cell_type": "code",
   "execution_count": 70,
   "metadata": {},
   "outputs": [],
   "source": [
    "## Add Metadata support\n",
    "\n",
    "\n",
    "from aimakerspace.vectordatabase import VectorDatabase as BaseVectorDatabase\n",
    "from aimakerspace.openai_utils.embedding import EmbeddingModel\n",
    "import numpy as np\n",
    "from collections import defaultdict\n",
    "from typing import List, Tuple, Callable, Dict, Any\n",
    "\n",
    "class VectorDatabase(BaseVectorDatabase):\n",
    "    def __init__(self, embedding_model: EmbeddingModel = None):\n",
    "        super().__init__(embedding_model)\n",
    "        self.metadata = defaultdict(dict)  # Add metadata storage\n",
    "    \n",
    "    def insert(self, key: str, vector: np.array, metadata: Dict[str, Any] = None) -> None:\n",
    "        \"\"\"Enhanced insert with optional metadata\"\"\"\n",
    "        super().insert(key, vector)\n",
    "        self.metadata[key] = metadata or {}\n",
    "    \n",
    "    def get_metadata(self, key: str) -> Dict[str, Any]:\n",
    "        \"\"\"Get metadata for a specific document\"\"\"\n",
    "        return self.metadata.get(key, {})\n",
    "    \n",
    "    def search(\n",
    "        self,\n",
    "        query_vector: np.array,\n",
    "        k: int,\n",
    "        distance_measure: Callable = cosine_similarity,\n",
    "        metadata_filter: Dict[str, Any] = None,\n",
    "    ) -> List[Tuple[str, float]]:\n",
    "        \"\"\"Enhanced search with optional metadata filtering\"\"\"\n",
    "        \n",
    "        scores = []\n",
    "        for key, vector in self.vectors.items():\n",
    "            if metadata_filter and not self._matches_filter(self.metadata[key], metadata_filter):\n",
    "                continue\n",
    "            \n",
    "            score = distance_measure(query_vector, vector)\n",
    "            scores.append((key, score))\n",
    "        \n",
    "        return sorted(scores, key=lambda x: x[1], reverse=True)[:k]\n",
    "    \n",
    "    def search_by_text(\n",
    "        self,\n",
    "        query_text: str,\n",
    "        k: int,\n",
    "        distance_measure: Callable = cosine_similarity,\n",
    "        metadata_filter: Dict[str, Any] = None,\n",
    "        return_as_text: bool = False,\n",
    "    ) -> List[Tuple[str, float]]:\n",
    "        \"\"\"Enhanced search_by_text with metadata filtering\"\"\"\n",
    "        query_vector = self.embedding_model.get_embedding(query_text)\n",
    "        results = self.search(query_vector, k, distance_measure, metadata_filter)\n",
    "        return [result[0] for result in results] if return_as_text else results\n",
    "    \n",
    "    def _matches_filter(self, metadata: Dict[str, Any], filter_criteria: Dict[str, Any]) -> bool:\n",
    "        \"\"\"Check if metadata matches filter criteria\"\"\"\n",
    "        for key, value in filter_criteria.items():\n",
    "            if key not in metadata:\n",
    "                return False\n",
    "            if isinstance(value, list):\n",
    "                if metadata[key] not in value:\n",
    "                    return False\n",
    "            elif metadata[key] != value:\n",
    "                return False\n",
    "        return True\n",
    "    \n",
    "    async def abuild_from_list(self, list_of_text: List[str], metadata_list: List[Dict[str, Any]] = None) -> \"VectorDatabase\":\n",
    "        \"\"\"Enhanced abuild_from_list with optional metadata\"\"\"\n",
    "        if metadata_list is None:\n",
    "            metadata_list = [{}] * len(list_of_text)\n",
    "        \n",
    "        if len(list_of_text) != len(metadata_list):\n",
    "            raise ValueError(\"Text list and metadata list must have same length\")\n",
    "        \n",
    "        embeddings = await self.embedding_model.async_get_embeddings(list_of_text)\n",
    "        for text, embedding, metadata in zip(list_of_text, embeddings, metadata_list):\n",
    "            self.insert(text, np.array(embedding), metadata)\n",
    "        return self"
   ]
  },
  {
   "cell_type": "code",
   "execution_count": 71,
   "metadata": {},
   "outputs": [
    {
     "name": "stdout",
     "output_type": "stream",
     "text": [
      "Loaded PDF: data/paulgraham-essays.pdf\n",
      "Split into 3736 chunks\n",
      "Processed batch 1/8 (512 texts)\n",
      "Processed batch 2/8 (512 texts)\n",
      "Processed batch 3/8 (512 texts)\n",
      "Processed batch 4/8 (512 texts)\n",
      "Processed batch 5/8 (512 texts)\n",
      "Processed batch 6/8 (512 texts)\n",
      "Processed batch 7/8 (512 texts)\n",
      "Processed batch 8/8 (152 texts)\n",
      "Vector database ready!\n"
     ]
    }
   ],
   "source": [
    "from aimakerspace.text_utils import CharacterTextSplitter\n",
    "from typing import Dict, Any\n",
    "\n",
    "async def create_vector_db_from_pdf(pdf_path: str, document_metadata: Dict[str, Any] = None):\n",
    "    \"\"\"\n",
    "    Create vector database from a PDF file with automatic rate limiting.\n",
    "    \"\"\"\n",
    "    # Load PDF\n",
    "    pdf_loader = PDFFileLoader(pdf_path)\n",
    "    documents = pdf_loader.load_documents()\n",
    "    print(f\"Loaded PDF: {pdf_path}\")\n",
    "    \n",
    "    # Split into chunks\n",
    "    text_splitter = CharacterTextSplitter()\n",
    "    split_documents = text_splitter.split_texts(documents)\n",
    "    print(f\"Split into {len(split_documents)} chunks\")\n",
    "    \n",
    "    # Create metadata for each chunk\n",
    "    base_metadata = document_metadata or {}\n",
    "    chunk_metadata = []\n",
    "    for i, chunk in enumerate(split_documents):\n",
    "        metadata = {\n",
    "            **base_metadata,\n",
    "            \"chunk_id\": i,\n",
    "            \"chunk_length\": len(chunk),\n",
    "            \"source_file\": pdf_path,\n",
    "            \"document_type\": \"pdf\"\n",
    "        }\n",
    "        chunk_metadata.append(metadata)\n",
    "    \n",
    "    # Create vector database\n",
    "    vector_db = VectorDatabase()\n",
    "    vector_db = await vector_db.abuild_from_list(split_documents, chunk_metadata)\n",
    "    print(\"Vector database ready!\")\n",
    "    \n",
    "    return vector_db\n",
    "\n",
    "pg_metadata_vector_db = await create_vector_db_from_pdf(\n",
    "    \"data/paulgraham-essays.pdf\", \n",
    "    {\"author\": \"Paul Graham\", \"topic\": \"startups\"}\n",
    ")"
   ]
  },
  {
   "cell_type": "code",
   "execution_count": 72,
   "metadata": {},
   "outputs": [],
   "source": [
    "# Only search Paul Graham's content\n",
    "results = pg_metadata_vector_db.search_by_text(\n",
    "    \"how to start a company\", \n",
    "    k=5, \n",
    "    metadata_filter={\"author\": \"Paul Graham\"}\n",
    ")\n",
    "\n",
    "# Only search PDF documents  \n",
    "results = pg_metadata_vector_db.search_by_text(\n",
    "    \"venture capital\", \n",
    "    k=3, \n",
    "    metadata_filter={\"document_type\": \"pdf\"}\n",
    ")\n",
    "\n",
    "# Multiple filters\n",
    "results = pg_metadata_vector_db.search_by_text(\n",
    "    \"startup advice\", \n",
    "    k=5, \n",
    "    metadata_filter={\"author\": \"Paul Graham\", \"topic\": \"startups\"}\n",
    ")"
   ]
  },
  {
   "cell_type": "code",
   "execution_count": 73,
   "metadata": {},
   "outputs": [
    {
     "data": {
      "text/plain": [
       "[(\"or long. Eventually something would come up that required \\nme to use it more than that. And then I'd gradually slip back into my old ways.\\nAddictive things have to be treated as if they were sentient adversaries\u2014as if there were a little \\nman in your head always cooking up the most plausible arguments for doing whatever you're \\ntrying to stop doing. If you leave a path to it, he'll find it.\\nThe key seems to be visibility. The biggest ingredient in most bad habits is denial. So you have \\nto make it so that you can't merely slip into doing the thing you're trying to avoid. It has to set off \\nalarms.\\nMaybe in the long term the right answer for dealing with Internet distractions will be software \\nthat watches and controls them. But in the meantime I've found a more drastic solution that \\ndefinitely works: to set up a separate computer for using the Internet.\\nI now leave wifi turned off on my main computer except when I need to transfer a file or edit a \\nweb page, and I have a separate lapt\",\n",
       "  np.float64(0.47492949967252435)),\n",
       " (\"ainly by curiosity, but have a second self watching \\nover your shoulder, taking note of gaps and anomalies. [6]\\nGive yourself some time. You have a lot of control over the rate at which you turn yours into a \\nprepared mind, but you have less control over the stimuli that spark ideas when they hit it. If Bill \\nGates and Paul Allen had constrained themselves to come up with a startup idea in one month, \\nwhat if they'd chosen a month before the Altair appeared? They probably would have worked \\non a less promising idea. Drew Houston did work on a less promising idea before Dropbox: an \\nSAT prep startup. But Dropbox was a much better idea, both in the absolute sense and also as \\na match for his skills. [7]\\nA good way to trick yourself into noticing ideas is to work on projects that seem like they'd be \\ncool. If you do that, you'll naturally tend to build things that are missing. It wouldn't seem as \\ninteresting to build something that already existed.\\nJust as trying to think up startup idea\",\n",
       "  np.float64(0.40164913753122444)),\n",
       " (\", we'll be increasingly unable to rely on customs to protect us. [3] \\nUnless we want to be canaries in the coal mine of each new addiction\u2014the people whose sad \\nexample becomes a lesson to future generations\u2014we'll have to figure out for ourselves what to \\navoid and how. It will actually become a reasonable strategy (or a more reasonable strategy) to \\nsuspect everything new.\\nIn fact, even that won't be enough. We'll have to worry not just about new things, but also about \\nexisting things becoming more addictive. That's what bit me. I've avoided most addictions, but \\nthe Internet got me because it became addictive while I was using it. [4]\\nMost people I know have problems with Internet addiction. We're all trying to figure out our own \\ncustoms for getting free of it. That's why I don't have an iPhone, for example; the last thing I \\nwant is for the Internet to follow me out into the world. [5] My latest trick is taking long hikes. I \\nused to think running was a better form of exercise tha\",\n",
       "  np.float64(0.38986742622169956))]"
      ]
     },
     "execution_count": 73,
     "metadata": {},
     "output_type": "execute_result"
    }
   ],
   "source": [
    "pg_metadata_vector_db.search_by_text(\"How to develop a habbit\", k=3)"
   ]
  },
  {
   "cell_type": "code",
   "execution_count": 74,
   "metadata": {},
   "outputs": [
    {
     "data": {
      "text/plain": [
       "{'response': 'Based on the context above, happiness is not solely defined by financial security, but rather by engaging in work that you enjoy and find meaningful. Source 2 suggests that \"the happiest people are not those who have [financial security], but those who like what they do.\" Therefore, achieving happiness involves pursuing work you love and finding joy in the process rather than just the outcomes.\\n\\nAdditionally, Source 1 indicates that although writing or creating can be fraught with worry and puzzlement, it can also lead to moments of happiness when things work out. Engaging deeply with work, even when it is challenging, allows individuals to feel \"awake and alive,\" suggesting that fulfillment can come from the process itself, even if it involves struggles.\\n\\nMoreover, Source 3 advises that if you\\'re unsure about what to do, you should focus on creating or \"hacking things together.\" This approach emphasizes taking action and enjoying the creative process, which can lead to satisfaction and happiness.\\n\\nIn summary, to be happy, focus on doing work you love, embrace the challenges involved, and engage in creative activities that allow you to express yourself.',\n",
       " 'context': [(\"wouldn't say exactly that \\nyou're happier. A better word would be excited, or engaged. You're happy when things are going \\nwell, but often they aren't. When I'm writing an essay, most of the time I'm worried and puzzled: \\nworried that the essay will turn out badly, and puzzled because I'm groping for some idea that I \\ncan't see clearly enough. Will I be able to pin it down with words? In the end I usually can, if I \\ntake long enough, but I'm never sure; the first few attempts often fail.\\nYou have moments of happiness when things work out, but they don't last long, because then \\nyou're on to the next problem. So why do it at all? Because to the kind of people who like \\nworking this way, nothing else feels as right. You feel as if you're an animal in its natural habitat, \\ndoing what you were meant to do \u2014 not always happy, maybe, but awake and alive.\\nMany kids experience the excitement of working on projects of their own. The hard part is \\nmaking this converge with the work you do as an \",\n",
       "   np.float64(0.4211570454895871)),\n",
       "  (\"herit money. \\nMuch as everyone thinks they want financial security, the happiest people are not those who \\nhave it, but those who like what they do. So a plan that promises freedom at the expense of \\nknowing what to do with it may not be as good as it seems.\\nWhichever route you take, expect a struggle. Finding work you love is very difficult. Most people \\nfail. Even if you succeed, it's rare to be free to work on what you want till your thirties or forties. \\nBut if you have the destination in sight you'll be more likely to arrive at it. If you know you can \\nlove work, you're in the home stretch, and if you know what work you love, you're practically \\nthere.\\nNotes:\\n[1] Currently we do the opposite: when we make kids do boring work, like arithmetic drills, instead of admitting frankly \\nthat it's boring, we try to disguise it with superficial decorations.\\n[2] One father told me about a related phenomenon: he found himself concealing from his family how much he liked \\nhis work. When he wan\",\n",
       "   np.float64(0.4069066793168809)),\n",
       "  ('re happy.\\nIf I could go back and redo my twenties, that would be one thing I\\'d do more of: just try hacking \\nthings together. Like many people that age, I spent a lot of time worrying about what I should \\ndo. I also spent some time trying to build stuff. I should have spent less time worrying and more \\ntime building. If you\\'re not sure what to do, make something.\\nRaymond Chandler\\'s advice to thriller writers was \"When in doubt, have a man come through a \\ndoor with a gun in his hand.\" He followed that advice. Judging from his books, he was often in \\ndoubt. But though the result is occasionally cheesy, it\\'s never boring. In life, as in books, action \\nis underrated.\\nFortunately the number of things you can just hack together keeps increasing. People fifty years \\nago would be astonished that one could just hack together a movie, for example. Now you can \\neven hack together distribution. Just make stuff and put it online.\\nInappropriate\\nIf you really want to score big, the place to focus is ',\n",
       "   np.float64(0.40284561361369664))],\n",
       " 'context_count': 3,\n",
       " 'similarity_scores': ['Source 1: 0.421',\n",
       "  'Source 2: 0.407',\n",
       "  'Source 3: 0.403'],\n",
       " 'distance_metric': 'hamming_distance',\n",
       " 'prompts_used': {'system': {'role': 'system',\n",
       "   'content': 'You are a knowledgeable assistant that answers questions based strictly on provided context.\\n\\nInstructions:\\n- Only answer questions using information from the provided context\\n- If the context doesn\\'t contain relevant information, respond with \"I don\\'t know\"\\n- Be accurate and cite specific parts of the context when possible\\n- Keep responses detailed and detailed\\n- Only use the provided context. Do not use external knowledge.\\n- Only provide answers when you are confident the context supports your response.'},\n",
       "  'user': {'role': 'user',\n",
       "   'content': 'Context Information:\\n[Source 1]: wouldn\\'t say exactly that \\nyou\\'re happier. A better word would be excited, or engaged. You\\'re happy when things are going \\nwell, but often they aren\\'t. When I\\'m writing an essay, most of the time I\\'m worried and puzzled: \\nworried that the essay will turn out badly, and puzzled because I\\'m groping for some idea that I \\ncan\\'t see clearly enough. Will I be able to pin it down with words? In the end I usually can, if I \\ntake long enough, but I\\'m never sure; the first few attempts often fail.\\nYou have moments of happiness when things work out, but they don\\'t last long, because then \\nyou\\'re on to the next problem. So why do it at all? Because to the kind of people who like \\nworking this way, nothing else feels as right. You feel as if you\\'re an animal in its natural habitat, \\ndoing what you were meant to do \u2014 not always happy, maybe, but awake and alive.\\nMany kids experience the excitement of working on projects of their own. The hard part is \\nmaking this converge with the work you do as an \\n\\n[Source 2]: herit money. \\nMuch as everyone thinks they want financial security, the happiest people are not those who \\nhave it, but those who like what they do. So a plan that promises freedom at the expense of \\nknowing what to do with it may not be as good as it seems.\\nWhichever route you take, expect a struggle. Finding work you love is very difficult. Most people \\nfail. Even if you succeed, it\\'s rare to be free to work on what you want till your thirties or forties. \\nBut if you have the destination in sight you\\'ll be more likely to arrive at it. If you know you can \\nlove work, you\\'re in the home stretch, and if you know what work you love, you\\'re practically \\nthere.\\nNotes:\\n[1] Currently we do the opposite: when we make kids do boring work, like arithmetic drills, instead of admitting frankly \\nthat it\\'s boring, we try to disguise it with superficial decorations.\\n[2] One father told me about a related phenomenon: he found himself concealing from his family how much he liked \\nhis work. When he wan\\n\\n[Source 3]: re happy.\\nIf I could go back and redo my twenties, that would be one thing I\\'d do more of: just try hacking \\nthings together. Like many people that age, I spent a lot of time worrying about what I should \\ndo. I also spent some time trying to build stuff. I should have spent less time worrying and more \\ntime building. If you\\'re not sure what to do, make something.\\nRaymond Chandler\\'s advice to thriller writers was \"When in doubt, have a man come through a \\ndoor with a gun in his hand.\" He followed that advice. Judging from his books, he was often in \\ndoubt. But though the result is occasionally cheesy, it\\'s never boring. In life, as in books, action \\nis underrated.\\nFortunately the number of things you can just hack together keeps increasing. People fifty years \\nago would be astonished that one could just hack together a movie, for example. Now you can \\neven hack together distribution. Just make stuff and put it online.\\nInappropriate\\nIf you really want to score big, the place to focus is\\n\\nNumber of relevant sources found: 3\\nRelevance scores (hamming_distance): Source 1: 0.421, Source 2: 0.407, Source 3: 0.403\\n\\nQuestion: How to be happy?\\n\\nPlease provide your answer based solely on the context above.'}}}"
      ]
     },
     "execution_count": 74,
     "metadata": {},
     "output_type": "execute_result"
    }
   ],
   "source": [
    "rag_pipeline_with_metadata = RetrievalAugmentedQAPipeline(\n",
    "    vector_db_retriever=pg_metadata_vector_db,  # \u2190 NEW database (with metadata)\n",
    "    llm=chat_openai,\n",
    "    response_style=\"detailed\",\n",
    "    include_scores=True\n",
    ")\n",
    "\n",
    "result = rag_pipeline_with_metadata.run_pipeline(\"How to be happy?\", k=3, distance_metric=\"hamming_distance\")\n",
    "result"
   ]
  },
  {
   "cell_type": "code",
   "execution_count": 75,
   "metadata": {},
   "outputs": [
    {
     "name": "stdout",
     "output_type": "stream",
     "text": [
      "[{'author': 'Paul Graham', 'topic': 'startups', 'chunk_id': 181, 'chunk_length': 1000, 'source_file': 'data/paulgraham-essays.pdf', 'document_type': 'pdf', 'similarity_score': 0.4211570454895871}, {'author': 'Paul Graham', 'topic': 'startups', 'chunk_id': 2446, 'chunk_length': 1000, 'source_file': 'data/paulgraham-essays.pdf', 'document_type': 'pdf', 'similarity_score': 0.4069066793168809}, {'author': 'Paul Graham', 'topic': 'startups', 'chunk_id': 2270, 'chunk_length': 1000, 'source_file': 'data/paulgraham-essays.pdf', 'document_type': 'pdf', 'similarity_score': 0.40284561361369664}]\n"
     ]
    }
   ],
   "source": [
    "metadata_with_scores = []\n",
    "for chunk_text, score in result['context']:\n",
    "    metadata = pg_metadata_vector_db.get_metadata(chunk_text)\n",
    "    metadata['similarity_score'] = float(score)\n",
    "    metadata_with_scores.append(metadata)\n",
    "\n",
    "print(metadata_with_scores)"
   ]
  },
  {
   "cell_type": "code",
   "execution_count": 76,
   "metadata": {},
   "outputs": [],
   "source": [
    "## \n",
    "\n",
    "## Notes for the Loom\n",
    "\n",
    "# Why did we do in Python?\n",
    "# \n"
   ]
  },
  {
   "cell_type": "code",
   "execution_count": 77,
   "metadata": {},
   "outputs": [],
   "source": [
    "### YOUR CODE HERE"
   ]
  }
 ],
 "metadata": {
  "colab": {
   "provenance": []
  },
  "kernelspec": {
   "display_name": ".venv",
   "language": "python",
   "name": "python3"
  },
  "language_info": {
   "codemirror_mode": {
    "name": "ipython",
    "version": 3
   },
   "file_extension": ".py",
   "mimetype": "text/x-python",
   "name": "python",
   "nbconvert_exporter": "python",
   "pygments_lexer": "ipython3",
   "version": "3.11.9"
  }
 },
 "nbformat": 4,
 "nbformat_minor": 0
}